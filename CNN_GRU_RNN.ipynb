{
 "cells": [
  {
   "cell_type": "code",
   "execution_count": 3,
   "id": "56a32759",
   "metadata": {},
   "outputs": [],
   "source": [
    "import numpy as np # linear algebra\n",
    "import pandas as pd # data processing, CSV file I/O (e.g. pd.read_csv)\n",
    "import matplotlib.pyplot as plt\n",
    "\n",
    "import re, string\n",
    "import emoji\n",
    "import nltk\n",
    "from nltk.corpus import stopwords\n",
    "from nltk.stem import PorterStemmer\n",
    "from nltk.tokenize import sent_tokenize, word_tokenize\n",
    "\n",
    "# we need to fit model with sequence of tokens with specific length\n",
    "from keras_preprocessing.sequence import pad_sequences\n",
    "from keras.preprocessing.text import Tokenizer\n",
    "from keras.models import Sequential\n",
    "# normal GRU and the Version with Cuda\n",
    "from keras.layers import Dense, Embedding, GRU, LSTM, Dropout, Bidirectional\n",
    "from keras.callbacks import TensorBoard, EarlyStopping, ModelCheckpoint\n",
    "from tensorflow.keras.optimizers import RMSprop,Adam\n",
    "\n",
    "# keras wrapper for k-fold cross-validation\n",
    "from keras.wrappers.scikit_learn import KerasClassifier\n",
    "# normal cross validation\n",
    "from sklearn.model_selection import cross_val_score, train_test_split\n",
    "# cross validation for hyperparameter tuning\n",
    "from sklearn.model_selection import GridSearchCV"
   ]
  },
  {
   "cell_type": "code",
   "execution_count": 4,
   "id": "c7918d8e",
   "metadata": {},
   "outputs": [
    {
     "name": "stderr",
     "output_type": "stream",
     "text": [
      "[nltk_data] Downloading package stopwords to\n",
      "[nltk_data]     C:\\Users\\DELL\\AppData\\Roaming\\nltk_data...\n",
      "[nltk_data]   Package stopwords is already up-to-date!\n"
     ]
    },
    {
     "data": {
      "text/plain": [
       "True"
      ]
     },
     "execution_count": 4,
     "metadata": {},
     "output_type": "execute_result"
    }
   ],
   "source": [
    "nltk.download('stopwords')"
   ]
  },
  {
   "cell_type": "code",
   "execution_count": 5,
   "id": "21af9df2",
   "metadata": {},
   "outputs": [
    {
     "data": {
      "text/html": [
       "<div>\n",
       "<style scoped>\n",
       "    .dataframe tbody tr th:only-of-type {\n",
       "        vertical-align: middle;\n",
       "    }\n",
       "\n",
       "    .dataframe tbody tr th {\n",
       "        vertical-align: top;\n",
       "    }\n",
       "\n",
       "    .dataframe thead th {\n",
       "        text-align: right;\n",
       "    }\n",
       "</style>\n",
       "<table border=\"1\" class=\"dataframe\">\n",
       "  <thead>\n",
       "    <tr style=\"text-align: right;\">\n",
       "      <th></th>\n",
       "      <th>v1</th>\n",
       "      <th>v2</th>\n",
       "      <th>Unnamed: 2</th>\n",
       "      <th>Unnamed: 3</th>\n",
       "      <th>Unnamed: 4</th>\n",
       "    </tr>\n",
       "  </thead>\n",
       "  <tbody>\n",
       "    <tr>\n",
       "      <th>0</th>\n",
       "      <td>ham</td>\n",
       "      <td>Go until jurong point, crazy.. Available only ...</td>\n",
       "      <td>NaN</td>\n",
       "      <td>NaN</td>\n",
       "      <td>NaN</td>\n",
       "    </tr>\n",
       "    <tr>\n",
       "      <th>1</th>\n",
       "      <td>ham</td>\n",
       "      <td>Ok lar... Joking wif u oni...</td>\n",
       "      <td>NaN</td>\n",
       "      <td>NaN</td>\n",
       "      <td>NaN</td>\n",
       "    </tr>\n",
       "    <tr>\n",
       "      <th>2</th>\n",
       "      <td>spam</td>\n",
       "      <td>Free entry in 2 a wkly comp to win FA Cup fina...</td>\n",
       "      <td>NaN</td>\n",
       "      <td>NaN</td>\n",
       "      <td>NaN</td>\n",
       "    </tr>\n",
       "    <tr>\n",
       "      <th>3</th>\n",
       "      <td>ham</td>\n",
       "      <td>U dun say so early hor... U c already then say...</td>\n",
       "      <td>NaN</td>\n",
       "      <td>NaN</td>\n",
       "      <td>NaN</td>\n",
       "    </tr>\n",
       "    <tr>\n",
       "      <th>4</th>\n",
       "      <td>ham</td>\n",
       "      <td>Nah I don't think he goes to usf, he lives aro...</td>\n",
       "      <td>NaN</td>\n",
       "      <td>NaN</td>\n",
       "      <td>NaN</td>\n",
       "    </tr>\n",
       "  </tbody>\n",
       "</table>\n",
       "</div>"
      ],
      "text/plain": [
       "     v1                                                 v2 Unnamed: 2  \\\n",
       "0   ham  Go until jurong point, crazy.. Available only ...        NaN   \n",
       "1   ham                      Ok lar... Joking wif u oni...        NaN   \n",
       "2  spam  Free entry in 2 a wkly comp to win FA Cup fina...        NaN   \n",
       "3   ham  U dun say so early hor... U c already then say...        NaN   \n",
       "4   ham  Nah I don't think he goes to usf, he lives aro...        NaN   \n",
       "\n",
       "  Unnamed: 3 Unnamed: 4  \n",
       "0        NaN        NaN  \n",
       "1        NaN        NaN  \n",
       "2        NaN        NaN  \n",
       "3        NaN        NaN  \n",
       "4        NaN        NaN  "
      ]
     },
     "execution_count": 5,
     "metadata": {},
     "output_type": "execute_result"
    }
   ],
   "source": [
    "df = pd.read_csv(\"C:/Users/DELL/spam.csv\" ,  encoding='latin-1')\n",
    "df.head()"
   ]
  },
  {
   "cell_type": "code",
   "execution_count": 6,
   "id": "62f146b3",
   "metadata": {},
   "outputs": [
    {
     "data": {
      "text/html": [
       "<div>\n",
       "<style scoped>\n",
       "    .dataframe tbody tr th:only-of-type {\n",
       "        vertical-align: middle;\n",
       "    }\n",
       "\n",
       "    .dataframe tbody tr th {\n",
       "        vertical-align: top;\n",
       "    }\n",
       "\n",
       "    .dataframe thead th {\n",
       "        text-align: right;\n",
       "    }\n",
       "</style>\n",
       "<table border=\"1\" class=\"dataframe\">\n",
       "  <thead>\n",
       "    <tr style=\"text-align: right;\">\n",
       "      <th></th>\n",
       "      <th>Class</th>\n",
       "      <th>Text</th>\n",
       "    </tr>\n",
       "  </thead>\n",
       "  <tbody>\n",
       "    <tr>\n",
       "      <th>0</th>\n",
       "      <td>0</td>\n",
       "      <td>Go until jurong point, crazy.. Available only ...</td>\n",
       "    </tr>\n",
       "    <tr>\n",
       "      <th>1</th>\n",
       "      <td>0</td>\n",
       "      <td>Ok lar... Joking wif u oni...</td>\n",
       "    </tr>\n",
       "    <tr>\n",
       "      <th>2</th>\n",
       "      <td>1</td>\n",
       "      <td>Free entry in 2 a wkly comp to win FA Cup fina...</td>\n",
       "    </tr>\n",
       "    <tr>\n",
       "      <th>3</th>\n",
       "      <td>0</td>\n",
       "      <td>U dun say so early hor... U c already then say...</td>\n",
       "    </tr>\n",
       "    <tr>\n",
       "      <th>4</th>\n",
       "      <td>0</td>\n",
       "      <td>Nah I don't think he goes to usf, he lives aro...</td>\n",
       "    </tr>\n",
       "  </tbody>\n",
       "</table>\n",
       "</div>"
      ],
      "text/plain": [
       "   Class                                               Text\n",
       "0      0  Go until jurong point, crazy.. Available only ...\n",
       "1      0                      Ok lar... Joking wif u oni...\n",
       "2      1  Free entry in 2 a wkly comp to win FA Cup fina...\n",
       "3      0  U dun say so early hor... U c already then say...\n",
       "4      0  Nah I don't think he goes to usf, he lives aro..."
      ]
     },
     "execution_count": 6,
     "metadata": {},
     "output_type": "execute_result"
    }
   ],
   "source": [
    "df.drop(['Unnamed: 2', 'Unnamed: 3', 'Unnamed: 4'], axis=1, inplace=True)\n",
    "df.rename(columns={'v1': 'Class', 'v2': 'Text'}, inplace=True)\n",
    "df['Class'] = df['Class'].map({'ham':0, 'spam':1})\n",
    "df.head()"
   ]
  },
  {
   "cell_type": "code",
   "execution_count": 7,
   "id": "42e0319d",
   "metadata": {},
   "outputs": [
    {
     "name": "stdout",
     "output_type": "stream",
     "text": [
      "['i', \"you've\", 'himself', 'they', 'that', 'been', 'a', 'while', 'through', 'in', 'here', 'few', 'own', 'just', 're', 'doesn', 'ma', \"shouldn't\"]\n"
     ]
    }
   ],
   "source": [
    "stop_words = stopwords.words('english')\n",
    "print(stop_words[::10])\n",
    "\n",
    "porter = PorterStemmer()"
   ]
  },
  {
   "cell_type": "code",
   "execution_count": 8,
   "id": "4a877121",
   "metadata": {},
   "outputs": [],
   "source": [
    "def clean_text(words):\n",
    "    \"\"\"The function to clean text\"\"\"\n",
    "    words = re.sub(\"[^a-zA-Z]\",\" \", words)\n",
    "    text = words.lower().split()                   \n",
    "    return \" \".join(text)\n",
    "\n",
    "def remove_stopwords(text):\n",
    "    \"\"\"The function to removing stopwords\"\"\"\n",
    "    text = [word.lower() for word in text.split() if word.lower() not in stop_words]\n",
    "    return \" \".join(text)\n",
    "\n",
    "def stemmer(stem_text):\n",
    "    \"\"\"The function to apply stemming\"\"\"\n",
    "    stem_text = [porter.stem(word) for word in stem_text.split()]\n",
    "    return \" \".join(stem_text)"
   ]
  },
  {
   "cell_type": "code",
   "execution_count": 9,
   "id": "5f5a08d0",
   "metadata": {},
   "outputs": [],
   "source": [
    "def strip_all_entities(text): \n",
    "    text = text.replace('\\r', '').replace('\\n', ' ').replace('\\n', ' ').lower() #remove \\n and \\r and lowercase\n",
    "    text = re.sub(r\"(?:\\@|https?\\://)\\S+\", \"\", text) #remove links and mentions\n",
    "    text = re.sub(r'[^\\x00-\\x7f]',r'', text) #remove non utf8/ascii characters such as '\\x9a\\x91\\x97\\x9a\\x97'\n",
    "    banned_list= string.punctuation + 'Ã'+'±'+'ã'+'¼'+'â'+'»'+'§'\n",
    "    table = str.maketrans('', '', banned_list)\n",
    "    text = text.translate(table)\n",
    "    return text\n",
    "\n",
    "#clean hashtags at the end of the sentence, and keep those in the middle of the sentence by removing just the # symbol\n",
    "def clean_hashtags(text):\n",
    "    new_text = \" \".join(word.strip() for word in re.split('#(?!(?:hashtag)\\b)[\\w-]+(?=(?:\\s+#[\\w-]+)*\\s*$)', text)) #remove last hashtags\n",
    "    new_text2 = \" \".join(word.strip() for word in re.split('#|_', new_text)) #remove hashtags symbol from words in the middle of the sentence\n",
    "    return new_text2\n",
    "\n",
    "#Filter special characters such as & and $ present in some words\n",
    "def filter_chars(a):\n",
    "    sent = []\n",
    "    for word in a.split(' '):\n",
    "        if ('$' in word) | ('&' in word):\n",
    "            sent.append('')\n",
    "        else:\n",
    "            sent.append(word)\n",
    "    return ' '.join(sent)\n",
    "\n",
    "def remove_mult_spaces(text): # remove multiple spaces\n",
    "    return re.sub(\"\\s\\s+\" , \" \", text)"
   ]
  },
  {
   "cell_type": "code",
   "execution_count": 10,
   "id": "cd0eea7a",
   "metadata": {},
   "outputs": [],
   "source": [
    "df['Text'] = df['Text'].apply(clean_text)\n",
    "df['Text'] = df['Text'].apply(remove_stopwords)\n",
    "df['Text'] = df['Text'].apply(stemmer)\n",
    "df['Text'] = df['Text'].apply(strip_all_entities)\n",
    "df['Text'] = df['Text'].apply(clean_hashtags)\n",
    "df['Text'] = df['Text'].apply(filter_chars)\n",
    "df['Text'] = df['Text'].apply(remove_mult_spaces)"
   ]
  },
  {
   "cell_type": "code",
   "execution_count": 11,
   "id": "9cedec24",
   "metadata": {},
   "outputs": [
    {
     "data": {
      "text/html": [
       "<div>\n",
       "<style scoped>\n",
       "    .dataframe tbody tr th:only-of-type {\n",
       "        vertical-align: middle;\n",
       "    }\n",
       "\n",
       "    .dataframe tbody tr th {\n",
       "        vertical-align: top;\n",
       "    }\n",
       "\n",
       "    .dataframe thead th {\n",
       "        text-align: right;\n",
       "    }\n",
       "</style>\n",
       "<table border=\"1\" class=\"dataframe\">\n",
       "  <thead>\n",
       "    <tr style=\"text-align: right;\">\n",
       "      <th></th>\n",
       "      <th>Class</th>\n",
       "      <th>Text</th>\n",
       "    </tr>\n",
       "  </thead>\n",
       "  <tbody>\n",
       "    <tr>\n",
       "      <th>0</th>\n",
       "      <td>0</td>\n",
       "      <td>go jurong point crazi avail bugi n great world...</td>\n",
       "    </tr>\n",
       "    <tr>\n",
       "      <th>1</th>\n",
       "      <td>0</td>\n",
       "      <td>ok lar joke wif u oni</td>\n",
       "    </tr>\n",
       "    <tr>\n",
       "      <th>2</th>\n",
       "      <td>1</td>\n",
       "      <td>free entri wkli comp win fa cup final tkt st m...</td>\n",
       "    </tr>\n",
       "    <tr>\n",
       "      <th>3</th>\n",
       "      <td>0</td>\n",
       "      <td>u dun say earli hor u c alreadi say</td>\n",
       "    </tr>\n",
       "    <tr>\n",
       "      <th>4</th>\n",
       "      <td>0</td>\n",
       "      <td>nah think goe usf live around though</td>\n",
       "    </tr>\n",
       "  </tbody>\n",
       "</table>\n",
       "</div>"
      ],
      "text/plain": [
       "   Class                                               Text\n",
       "0      0  go jurong point crazi avail bugi n great world...\n",
       "1      0                              ok lar joke wif u oni\n",
       "2      1  free entri wkli comp win fa cup final tkt st m...\n",
       "3      0                u dun say earli hor u c alreadi say\n",
       "4      0               nah think goe usf live around though"
      ]
     },
     "execution_count": 11,
     "metadata": {},
     "output_type": "execute_result"
    }
   ],
   "source": [
    "df.head()"
   ]
  },
  {
   "cell_type": "code",
   "execution_count": 12,
   "id": "e64f890b",
   "metadata": {},
   "outputs": [],
   "source": [
    "X = df['Text']\n",
    "y = df['Class']"
   ]
  },
  {
   "cell_type": "code",
   "execution_count": 13,
   "id": "2e7b15e3",
   "metadata": {},
   "outputs": [
    {
     "name": "stdout",
     "output_type": "stream",
     "text": [
      "6240\n"
     ]
    }
   ],
   "source": [
    "tokenizer = Tokenizer()\n",
    "tokenizer.fit_on_texts(X)\n",
    "sequences = tokenizer.texts_to_sequences(X)\n",
    "\n",
    "vocab_size = len(tokenizer.word_index)+1\n",
    "print(vocab_size)"
   ]
  },
  {
   "cell_type": "code",
   "execution_count": 14,
   "id": "1064aed3",
   "metadata": {},
   "outputs": [
    {
     "data": {
      "text/plain": [
       "8"
      ]
     },
     "execution_count": 14,
     "metadata": {},
     "output_type": "execute_result"
    }
   ],
   "source": [
    "# divide sum of length of all sequences by number of all sequences to find averge length of each sequence\n",
    "sum([len(x) for x in sequences]) // len(sequences)"
   ]
  },
  {
   "cell_type": "code",
   "execution_count": 15,
   "id": "0803119d",
   "metadata": {},
   "outputs": [],
   "source": [
    "pad = 'post' \n",
    "max_len = 25\n",
    "embedding_size = 100\n",
    "batch_size = 20\n",
    "sequences = pad_sequences(sequences, maxlen=max_len, padding=pad, truncating=pad)\n",
    "sequences.shape\n",
    "\n",
    "X_train, X_test, y_train, y_test = train_test_split(sequences, y, test_size = 0.2, random_state= 0)"
   ]
  },
  {
   "cell_type": "code",
   "execution_count": 16,
   "id": "90b744bf",
   "metadata": {},
   "outputs": [],
   "source": [
    "X_train = np.array(X_train)\n",
    "X_test = np.array(X_test)\n",
    "y_train = np.array(y_train)\n",
    "y_test = np.array(y_test)"
   ]
  },
  {
   "cell_type": "markdown",
   "id": "7e54be24",
   "metadata": {},
   "source": [
    "# CNN Model"
   ]
  },
  {
   "cell_type": "code",
   "execution_count": 17,
   "id": "9b6e300f",
   "metadata": {},
   "outputs": [
    {
     "name": "stdout",
     "output_type": "stream",
     "text": [
      "Model: \"sequential\"\n",
      "_________________________________________________________________\n",
      " Layer (type)                Output Shape              Param #   \n",
      "=================================================================\n",
      " embedding (Embedding)       (None, 25, 100)           624000    \n",
      "                                                                 \n",
      " conv1d (Conv1D)             (None, 23, 128)           38528     \n",
      "                                                                 \n",
      " max_pooling1d (MaxPooling1D  (None, 7, 128)           0         \n",
      " )                                                               \n",
      "                                                                 \n",
      " dropout (Dropout)           (None, 7, 128)            0         \n",
      "                                                                 \n",
      " conv1d_1 (Conv1D)           (None, 5, 128)            49280     \n",
      "                                                                 \n",
      " global_max_pooling1d (Globa  (None, 128)              0         \n",
      " lMaxPooling1D)                                                  \n",
      "                                                                 \n",
      " dropout_1 (Dropout)         (None, 128)               0         \n",
      "                                                                 \n",
      " dense (Dense)               (None, 64)                8256      \n",
      "                                                                 \n",
      " dropout_2 (Dropout)         (None, 64)                0         \n",
      "                                                                 \n",
      " dense_1 (Dense)             (None, 32)                2080      \n",
      "                                                                 \n",
      " dropout_3 (Dropout)         (None, 32)                0         \n",
      "                                                                 \n",
      "=================================================================\n",
      "Total params: 722,144\n",
      "Trainable params: 722,144\n",
      "Non-trainable params: 0\n",
      "_________________________________________________________________\n"
     ]
    }
   ],
   "source": [
    "from keras.layers import Conv1D, MaxPool1D, GlobalMaxPooling1D, GlobalAveragePooling1D\n",
    "\n",
    "n_epochs = 10\n",
    "model3 = Sequential()\n",
    "model3.add(Embedding(input_dim=vocab_size, output_dim=embedding_size, input_length=max_len))\n",
    "model3.add(Conv1D(128, 3, activation='relu'))\n",
    "model3.add(MaxPool1D(3))\n",
    "model3.add(Dropout(0.2))\n",
    "model3.add(Conv1D(128, 3, activation='relu'))\n",
    "model3.add(GlobalMaxPooling1D())\n",
    "model3.add(Dropout(0.2))\n",
    "model3.add(Dense(64, activation='tanh'))\n",
    "model3.add(Dropout(0.2))\n",
    "model3.add(Dense(32, activation='tanh'))\n",
    "model3.add(Dropout(0.2))\n",
    "model3.summary()\n",
    "model3.add(Dense(1, activation='sigmoid'))\n",
    "\n",
    "\n"
   ]
  },
  {
   "cell_type": "code",
   "execution_count": 18,
   "id": "22c31518",
   "metadata": {},
   "outputs": [],
   "source": [
    "model3.compile(loss='binary_crossentropy', optimizer=\"adam\", metrics=['accuracy'])"
   ]
  },
  {
   "cell_type": "code",
   "execution_count": 19,
   "id": "64823ddd",
   "metadata": {
    "scrolled": false
   },
   "outputs": [
    {
     "name": "stdout",
     "output_type": "stream",
     "text": [
      "Epoch 1/10\n",
      "179/179 [==============================] - 8s 29ms/step - loss: 0.2089 - accuracy: 0.9285 - val_loss: 0.0458 - val_accuracy: 0.9877\n",
      "Epoch 2/10\n",
      "179/179 [==============================] - 5s 27ms/step - loss: 0.0419 - accuracy: 0.9905 - val_loss: 0.0552 - val_accuracy: 0.9854\n",
      "Epoch 3/10\n",
      "179/179 [==============================] - 4s 24ms/step - loss: 0.0199 - accuracy: 0.9950 - val_loss: 0.0594 - val_accuracy: 0.9865\n",
      "Epoch 4/10\n",
      "179/179 [==============================] - 5s 27ms/step - loss: 0.0077 - accuracy: 0.9989 - val_loss: 0.0944 - val_accuracy: 0.9821\n",
      "Epoch 5/10\n",
      "179/179 [==============================] - 5s 26ms/step - loss: 0.0032 - accuracy: 0.9992 - val_loss: 0.0884 - val_accuracy: 0.9821\n",
      "Epoch 6/10\n",
      "179/179 [==============================] - 5s 28ms/step - loss: 0.0035 - accuracy: 0.9986 - val_loss: 0.1006 - val_accuracy: 0.9854\n",
      "Epoch 7/10\n",
      "179/179 [==============================] - 5s 26ms/step - loss: 5.7917e-04 - accuracy: 1.0000 - val_loss: 0.1078 - val_accuracy: 0.9809\n",
      "Epoch 8/10\n",
      "179/179 [==============================] - 4s 25ms/step - loss: 3.8972e-04 - accuracy: 1.0000 - val_loss: 0.1090 - val_accuracy: 0.9832\n",
      "Epoch 9/10\n",
      "179/179 [==============================] - 4s 24ms/step - loss: 0.0011 - accuracy: 0.9997 - val_loss: 0.1697 - val_accuracy: 0.9731\n",
      "Epoch 10/10\n",
      "179/179 [==============================] - 4s 24ms/step - loss: 2.4142e-04 - accuracy: 1.0000 - val_loss: 0.1500 - val_accuracy: 0.9731\n",
      "35/35 [==============================] - 0s 6ms/step - loss: 0.0894 - accuracy: 0.9857\n",
      "0.0893663763999939 0.9856502413749695\n"
     ]
    }
   ],
   "source": [
    "results = model3.fit(X_train, y_train, batch_size = batch_size, epochs=n_epochs, validation_split=0.2, verbose=1)\n",
    "eval_ = model3.evaluate(X_test, y_test)\n",
    "print(eval_[0], eval_[1]) # loss / accuracy\n",
    "\n"
   ]
  },
  {
   "cell_type": "code",
   "execution_count": 20,
   "id": "b9521406",
   "metadata": {
    "scrolled": true
   },
   "outputs": [
    {
     "data": {
      "image/png": "[encoded data removed]",
      "text/plain": [
       "<Figure size 864x360 with 2 Axes>"
      ]
     },
     "metadata": {
      "needs_background": "light"
     },
     "output_type": "display_data"
    }
   ],
   "source": [
    "def plot_model(result):\n",
    "    acc = result.history['accuracy']\n",
    "    val_acc = result.history['val_accuracy']\n",
    "\n",
    "    loss = result.history['loss']\n",
    "    val_loss = result.history['val_loss']\n",
    "    x = range(1, len(acc)+1)\n",
    "    \n",
    "    plt.figure(figsize=(12, 5))\n",
    "    plt.subplot(1,2,1)\n",
    "    plt.plot(x, acc, 'b', label='Training acc')\n",
    "    plt.plot(x, val_acc, 'r', label= 'Validation acc')\n",
    "    plt.legend()\n",
    "    \n",
    "    plt.subplot(1,2,2)\n",
    "    plt.plot(x, loss, 'b', label='Training loss')\n",
    "    plt.plot(x, val_loss, 'r', label='validation loss')\n",
    "    plt.legend()\n",
    "    \n",
    "plot_model(results)"
   ]
  },
  {
   "cell_type": "markdown",
   "id": "4d81f523",
   "metadata": {},
   "source": [
    "# GRU Model"
   ]
  },
  {
   "cell_type": "code",
   "execution_count": 21,
   "id": "1abbf757",
   "metadata": {
    "scrolled": true
   },
   "outputs": [
    {
     "name": "stdout",
     "output_type": "stream",
     "text": [
      "Model: \"sequential_1\"\n",
      "_________________________________________________________________\n",
      " Layer (type)                Output Shape              Param #   \n",
      "=================================================================\n",
      " embedding_1 (Embedding)     (None, 25, 100)           624000    \n",
      "                                                                 \n",
      " dropout_4 (Dropout)         (None, 25, 100)           0         \n",
      "                                                                 \n",
      " gru (GRU)                   (None, 140)               101640    \n",
      "                                                                 \n",
      " dropout_5 (Dropout)         (None, 140)               0         \n",
      "                                                                 \n",
      " Classification (Dense)      (None, 1)                 141       \n",
      "                                                                 \n",
      "=================================================================\n",
      "Total params: 725,781\n",
      "Trainable params: 725,781\n",
      "Non-trainable params: 0\n",
      "_________________________________________________________________\n",
      "Epoch 1/10\n",
      "179/179 [==============================] - 18s 72ms/step - loss: 0.2660 - accuracy: 0.9147 - val_loss: 0.0571 - val_accuracy: 0.9809\n",
      "Epoch 2/10\n",
      "179/179 [==============================] - 11s 62ms/step - loss: 0.0765 - accuracy: 0.9812 - val_loss: 0.0649 - val_accuracy: 0.9865\n",
      "Epoch 3/10\n",
      "179/179 [==============================] - 13s 72ms/step - loss: 0.0524 - accuracy: 0.9879 - val_loss: 0.0415 - val_accuracy: 0.9922\n",
      "Epoch 4/10\n",
      "179/179 [==============================] - 11s 64ms/step - loss: 0.0351 - accuracy: 0.9924 - val_loss: 0.0831 - val_accuracy: 0.9865\n",
      "Epoch 5/10\n",
      "179/179 [==============================] - 12s 65ms/step - loss: 0.0280 - accuracy: 0.9947 - val_loss: 0.0643 - val_accuracy: 0.9865\n",
      "Epoch 6/10\n",
      "179/179 [==============================] - 12s 67ms/step - loss: 0.0219 - accuracy: 0.9958 - val_loss: 0.0504 - val_accuracy: 0.9865\n",
      "Epoch 7/10\n",
      "179/179 [==============================] - 12s 67ms/step - loss: 0.0164 - accuracy: 0.9955 - val_loss: 0.0774 - val_accuracy: 0.9899\n",
      "Epoch 8/10\n",
      "179/179 [==============================] - 9s 50ms/step - loss: 0.0073 - accuracy: 0.9978 - val_loss: 0.1144 - val_accuracy: 0.9843\n",
      "Epoch 9/10\n",
      "179/179 [==============================] - 5s 27ms/step - loss: 0.0238 - accuracy: 0.9969 - val_loss: 0.1008 - val_accuracy: 0.9821\n",
      "Epoch 10/10\n",
      "179/179 [==============================] - 4s 24ms/step - loss: 0.0156 - accuracy: 0.9966 - val_loss: 0.0754 - val_accuracy: 0.9821\n",
      "35/35 [==============================] - 0s 5ms/step - loss: 0.0872 - accuracy: 0.9776\n",
      "0.08721126616001129 0.9775784611701965\n"
     ]
    },
    {
     "data": {
      "image/png": "[encoded data removed]",
      "text/plain": [
       "<Figure size 864x360 with 2 Axes>"
      ]
     },
     "metadata": {
      "needs_background": "light"
     },
     "output_type": "display_data"
    }
   ],
   "source": [
    "model1 = Sequential()\n",
    "model1.add(Embedding(input_dim=vocab_size, output_dim=embedding_size, input_length=max_len))\n",
    "model1.add(Dropout(0.8))\n",
    "model1.add(GRU(140, return_sequences=False))\n",
    "model1.add(Dropout(0.86))\n",
    "model1.add(Dense(1, activation='sigmoid', name='Classification'))\n",
    "model1.summary()\n",
    "\n",
    "model1.compile(optimizer='adam', loss='binary_crossentropy', metrics=['accuracy'])\n",
    "results1 = model1.fit(X_train, y_train, epochs=n_epochs, batch_size=batch_size, validation_split=0.2)\n",
    "\n",
    "eval_ = model1.evaluate(X_test, y_test)\n",
    "print(eval_[0], eval_[1]) # loss / accuracy\n",
    "\n",
    "plot_model(results1)"
   ]
  },
  {
   "cell_type": "markdown",
   "id": "5ee89662",
   "metadata": {},
   "source": [
    "# RNN Model"
   ]
  },
  {
   "cell_type": "code",
   "execution_count": 22,
   "id": "822a3390",
   "metadata": {},
   "outputs": [],
   "source": [
    "from keras.layers import SimpleRNN, Embedding, Dense"
   ]
  },
  {
   "cell_type": "code",
   "execution_count": 23,
   "id": "c8c6176c",
   "metadata": {},
   "outputs": [],
   "source": [
    "max_features = 10000\n",
    "max_len = 500"
   ]
  },
  {
   "cell_type": "code",
   "execution_count": 24,
   "id": "d8ca3e0f",
   "metadata": {},
   "outputs": [
    {
     "name": "stdout",
     "output_type": "stream",
     "text": [
      "Epoch 1/10\n",
      "112/112 [==============================] - 2s 7ms/step - loss: 0.2012 - acc: 0.9450 - val_loss: 0.0932 - val_acc: 0.9765\n",
      "Epoch 2/10\n",
      "112/112 [==============================] - 1s 5ms/step - loss: 0.0725 - acc: 0.9812 - val_loss: 0.0570 - val_acc: 0.9843\n",
      "Epoch 3/10\n",
      "112/112 [==============================] - 1s 5ms/step - loss: 0.0450 - acc: 0.9913 - val_loss: 0.0666 - val_acc: 0.9843\n",
      "Epoch 4/10\n",
      "112/112 [==============================] - 1s 5ms/step - loss: 0.0363 - acc: 0.9910 - val_loss: 0.0602 - val_acc: 0.9865\n",
      "Epoch 5/10\n",
      "112/112 [==============================] - 1s 5ms/step - loss: 0.0281 - acc: 0.9944 - val_loss: 0.0692 - val_acc: 0.9865\n",
      "Epoch 6/10\n",
      "112/112 [==============================] - 1s 5ms/step - loss: 0.0210 - acc: 0.9966 - val_loss: 0.0755 - val_acc: 0.9865\n",
      "Epoch 7/10\n",
      "112/112 [==============================] - 1s 5ms/step - loss: 0.0186 - acc: 0.9966 - val_loss: 0.0789 - val_acc: 0.9854\n",
      "Epoch 8/10\n",
      "112/112 [==============================] - 1s 5ms/step - loss: 0.0164 - acc: 0.9972 - val_loss: 0.0846 - val_acc: 0.9832\n",
      "Epoch 9/10\n",
      "112/112 [==============================] - 1s 5ms/step - loss: 0.0137 - acc: 0.9978 - val_loss: 0.0955 - val_acc: 0.9843\n",
      "Epoch 10/10\n",
      "112/112 [==============================] - 1s 5ms/step - loss: 0.0084 - acc: 0.9989 - val_loss: 0.0982 - val_acc: 0.9843\n",
      "35/35 [==============================] - 0s 2ms/step - loss: 0.0962 - acc: 0.9839\n"
     ]
    }
   ],
   "source": [
    "model = Sequential()\n",
    "model.add(Embedding(max_features, 32))\n",
    "model.add(SimpleRNN(32))\n",
    "model.add(Dense(1, activation='sigmoid'))\n",
    "\n",
    "model.compile(optimizer='rmsprop', loss='binary_crossentropy', metrics=['acc'])\n",
    "result_rnn = model.fit(X_train, y_train, epochs=10, batch_size=32, validation_split=0.2)\n",
    "eval_1 = model.evaluate(X_test, y_test)"
   ]
  },
  {
   "cell_type": "code",
   "execution_count": 25,
   "id": "e46db6fe",
   "metadata": {},
   "outputs": [
    {
     "data": {
      "image/png": "[encoded data removed]",
      "text/plain": [
       "<Figure size 432x288 with 1 Axes>"
      ]
     },
     "metadata": {
      "needs_background": "light"
     },
     "output_type": "display_data"
    },
    {
     "data": {
      "image/png": "[encoded data removed]",
      "text/plain": [
       "<Figure size 432x288 with 1 Axes>"
      ]
     },
     "metadata": {
      "needs_background": "light"
     },
     "output_type": "display_data"
    }
   ],
   "source": [
    "acc = result_rnn.history['acc']\n",
    "val_acc = result_rnn.history['val_acc']\n",
    "loss = result_rnn.history['loss']\n",
    "val_loss = result_rnn.history['val_loss']\n",
    "epochs = range(len(acc))\n",
    "plt.plot(epochs, acc, '-', color='orange', label='training acc')\n",
    "plt.plot(epochs, val_acc, '-', color='blue', label='validation acc')\n",
    "plt.title('Training and validation accuracy')\n",
    "plt.legend()\n",
    "plt.show()\n",
    "\n",
    "plt.plot(epochs, loss, '-', color='orange', label='training loss')\n",
    "plt.plot(epochs, val_loss,  '-', color='blue', label='validation loss')\n",
    "plt.title('Training and validation loss')\n",
    "plt.legend()\n",
    "plt.show()"
   ]
  }
 ],
 "metadata": {
  "kernelspec": {
   "display_name": "Python 3 (ipykernel)",
   "language": "python",
   "name": "python3"
  },
  "language_info": {
   "codemirror_mode": {
    "name": "ipython",
    "version": 3
   },
   "file_extension": ".py",
   "mimetype": "text/x-python",
   "name": "python",
   "nbconvert_exporter": "python",
   "pygments_lexer": "ipython3",
   "version": "3.9.7"
  }
 },
 "nbformat": 4,
 "nbformat_minor": 5
}
